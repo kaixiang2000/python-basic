{
 "cells": [
  {
   "cell_type": "markdown",
   "metadata": {},
   "source": [
    "# Lesson 19.控制语句（一）：判别语句"
   ]
  },
  {
   "cell_type": "markdown",
   "metadata": {},
   "source": [
    "&emsp;&emsp;在前面的课程中，我们已经介绍了常用Pyhton基本对象类型，而接下来，我们要在此基础之上进一步介绍组织这些对象类型去实现复杂逻辑的控制语句。如果说基本对象类型是构成Python世界的基本元素，那么控制语句则是组织这些元素构成更复杂机体的基本规则。"
   ]
  },
  {
   "cell_type": "markdown",
   "metadata": {},
   "source": [
    "&emsp;&emsp;总的来说，Python控制语句主要有两大部分组成，**其一是判别语句**，同时也被称为条件判别语句，主要用于根据一定的逻辑判别结果，有选择性的执行部分代码；**其二则是循环语句**，主要用于依照一定的逻辑，针对容器中的各个对象依次执行部分代码。在本节课程中，我们先介绍判别语句。"
   ]
  },
  {
   "cell_type": "markdown",
   "metadata": {},
   "source": [
    "#### 1.顺序执行与控制语句"
   ]
  },
  {
   "cell_type": "markdown",
   "metadata": {},
   "source": [
    "&emsp;&emsp;在我们之前的课程内容中，一个单元格中出现多行代码的情况已经屡见不鲜，但这些代码其实都是顺序执行，即执行完一行之后再执行下一行，例如，在集合运算一节中，计算交集的过程："
   ]
  },
  {
   "cell_type": "code",
   "execution_count": 1,
   "metadata": {},
   "outputs": [
    {
     "data": {
      "text/plain": [
       "{2, 3}"
      ]
     },
     "execution_count": 1,
     "metadata": {},
     "output_type": "execute_result"
    }
   ],
   "source": [
    "s1 = {1, 2, 3}\n",
    "s2 = {2, 3, 4}\n",
    "s1 & s2"
   ]
  },
  {
   "cell_type": "markdown",
   "metadata": {},
   "source": [
    "其实是先定义了s1、s2，再计算二者的交集，是一个顺序执行的过程。但如果想让这个逻辑更加复杂一些，我们规定，当且仅当交集结果不为空时打印交集结果，这时候就需要使用控制语句来进行条件判别了，我们先看下能够表达这个逻辑的控制语句表达式："
   ]
  },
  {
   "cell_type": "code",
   "execution_count": 2,
   "metadata": {},
   "outputs": [
    {
     "name": "stdout",
     "output_type": "stream",
     "text": [
      "{2, 3}\n"
     ]
    }
   ],
   "source": [
    "# 前两句顺序执行\n",
    "s1 = {1, 2, 3}\n",
    "s2 = {2, 3, 4}\n",
    "# if判别语句\n",
    "if s1 & s2 != set():        # 注意：空集合是set()\n",
    "    print(s1 & s2)"
   ]
  },
  {
   "cell_type": "markdown",
   "metadata": {},
   "source": [
    "其中if表达式所表示的逻辑就是当两个集合交集不为空时，打印两个集合的交集。当然，我们也可以尝试下当两个集合交集为空的情况："
   ]
  },
  {
   "cell_type": "code",
   "execution_count": 3,
   "metadata": {},
   "outputs": [],
   "source": [
    "s1 = {1, 2, 3}\n",
    "s2 = {4, 5, 6}\n",
    "if s1 & s2 != set():        \n",
    "    print(s1 & s2)"
   ]
  },
  {
   "cell_type": "markdown",
   "metadata": {},
   "source": [
    "由于条件并不满足，因此不返回任何结果。由此，我们了解了控制语句中条件判别语句的基本功能。"
   ]
  },
  {
   "cell_type": "markdown",
   "metadata": {},
   "source": [
    "#### 2.if判别语句结构"
   ]
  },
  {
   "cell_type": "markdown",
   "metadata": {},
   "source": [
    "&emsp;&emsp;判别语句中，最常用的就是if条件判别。根据前面的描述，我们已经知道了if条件判别基本结构的执行逻辑，即当条件满足时，执行代码，反之则不执行。这里我们再详细讲解下if条件判别的语法结构：   \n",
    "```python\n",
    "if <条件>:\n",
    "    <语句>\n",
    "```   \n",
    "其中if为条件语句关键词，后接条件语句+：，该条件语句返回结果为True/False，执行语句为if判别体内部的语句，需要缩进四格，当if条件成立（即条件语句返回结果为True）时执行，反之则跳过。"
   ]
  },
  {
   "cell_type": "code",
   "execution_count": 4,
   "metadata": {},
   "outputs": [
    {
     "name": "stdout",
     "output_type": "stream",
     "text": [
      "1\n"
     ]
    }
   ],
   "source": [
    "a = 1\n",
    "if a == 1:\n",
    "    print(a)"
   ]
  },
  {
   "cell_type": "code",
   "execution_count": 5,
   "metadata": {},
   "outputs": [],
   "source": [
    "a = 1\n",
    "if a == 2:\n",
    "    print(a)"
   ]
  },
  {
   "cell_type": "markdown",
   "metadata": {},
   "source": [
    "不难发现，if判别结构执行逻辑还是比较简单的，条件成立就执行判别体中的代码，不成立则跳过。但判别逻辑更常见的一种情况是类似条件成立则执行代码1，不成立则执行代码2，此时就需要使用if-else判别语句结构了。"
   ]
  },
  {
   "cell_type": "markdown",
   "metadata": {},
   "source": [
    "#### 3.if-else判别语句结构"
   ]
  },
  {
   "cell_type": "markdown",
   "metadata": {},
   "source": [
    "&emsp;&emsp;和if判别语句结构不同，if-else语句可进行更复杂的逻辑表述，即可执行类似“条件成立则执行代码1，不成立则执行代码2”的逻辑，其基本结构如下：   \n",
    "```python\n",
    "if <条件>:\n",
    "    <语句1>\n",
    "else:\n",
    "    <语句2>\n",
    "```   \n",
    "此时，当条件成立时执行语句1，不成立时执行语句2，例如："
   ]
  },
  {
   "cell_type": "code",
   "execution_count": 6,
   "metadata": {},
   "outputs": [
    {
     "name": "stdout",
     "output_type": "stream",
     "text": [
      "1\n"
     ]
    }
   ],
   "source": [
    "a = 1\n",
    "if a == 1:\n",
    "    print(a)\n",
    "else:\n",
    "    print('a取值不为1')"
   ]
  },
  {
   "cell_type": "code",
   "execution_count": 7,
   "metadata": {},
   "outputs": [
    {
     "name": "stdout",
     "output_type": "stream",
     "text": [
      "a取值不为1\n"
     ]
    }
   ],
   "source": [
    "a = 2\n",
    "if a == 1:\n",
    "    print(a)\n",
    "else:\n",
    "    print('a取值不为1')"
   ]
  },
  {
   "cell_type": "code",
   "execution_count": 8,
   "metadata": {},
   "outputs": [
    {
     "name": "stdout",
     "output_type": "stream",
     "text": [
      "{2, 3}\n"
     ]
    }
   ],
   "source": [
    "s1 = {1, 2, 3}\n",
    "s2 = {2, 3, 4}\n",
    "if s1 & s2 != set():        \n",
    "    print(s1 & s2)\n",
    "else:\n",
    "    print('两个集合交集为空')"
   ]
  },
  {
   "cell_type": "code",
   "execution_count": 9,
   "metadata": {},
   "outputs": [
    {
     "name": "stdout",
     "output_type": "stream",
     "text": [
      "两个集合交集为空\n"
     ]
    }
   ],
   "source": [
    "s1 = {1, 2, 3}\n",
    "s2 = {4, 5, 6}\n",
    "if s1 & s2 != set():        \n",
    "    print(s1 & s2)\n",
    "else:\n",
    "    print('两个集合交集为空')"
   ]
  },
  {
   "cell_type": "markdown",
   "metadata": {},
   "source": [
    "&emsp;&emsp;从表意丰富程度来说，if-else语句相比if语句，能够执行二分支条件判别，条件成立执行代码一，不成立执行代码二，那么我们不禁思考，能否进一步丰富这样的逻辑判别体系呢？即实现类似“满足条件1执行代码1，满足条件2执行代码2，当这些条件都不满足时，执行代码3”。"
   ]
  },
  {
   "cell_type": "markdown",
   "metadata": {},
   "source": [
    "#### 4.if-elif-else判别语句结构"
   ]
  },
  {
   "cell_type": "markdown",
   "metadata": {},
   "source": [
    "&emsp;&emsp;要执行类似“满足条件1执行代码1，满足条件2执行代码2，当这些条件都不满足时，执行代码3”的逻辑，首先我们想到的是，能否在if-else结构中进行嵌套。例如，如果要判断两个集合交集元素个数，当交集包含一个元素时返回“交集包含一个元素”，包含两个元素时返回“交集包含两个元素”，包含大于两个元素时返回“交集元素多于两个”，交集为空时返回“交集为空”，此时其实可以使用if-else嵌套结构执行："
   ]
  },
  {
   "cell_type": "code",
   "execution_count": 10,
   "metadata": {},
   "outputs": [
    {
     "data": {
      "text/plain": [
       "3"
      ]
     },
     "execution_count": 10,
     "metadata": {},
     "output_type": "execute_result"
    }
   ],
   "source": [
    "len(s1)"
   ]
  },
  {
   "cell_type": "code",
   "execution_count": 11,
   "metadata": {},
   "outputs": [
    {
     "name": "stdout",
     "output_type": "stream",
     "text": [
      "两个集合交集为空\n"
     ]
    }
   ],
   "source": [
    "s1 = {1, 2, 3}\n",
    "s2 = {4, 5, 6}\n",
    "if s1 & s2 != set(): \n",
    "    if len(s1 & s2) == 1:\n",
    "        print('交集包含一个元素')\n",
    "    if len(s1 & s2) == 2:\n",
    "        print('交集包含两个元素')\n",
    "    if len(s1 & s2) >= 3:\n",
    "        print('交集包含多个元素')\n",
    "else:\n",
    "    print('两个集合交集为空')"
   ]
  },
  {
   "cell_type": "code",
   "execution_count": 12,
   "metadata": {},
   "outputs": [
    {
     "name": "stdout",
     "output_type": "stream",
     "text": [
      "交集包含一个元素\n"
     ]
    }
   ],
   "source": [
    "s1 = {1, 2, 3}\n",
    "s2 = {3, 4, 5}\n",
    "if s1 & s2 != set(): \n",
    "    if len(s1 & s2) == 1:\n",
    "        print('交集包含一个元素')\n",
    "    if len(s1 & s2) == 2:\n",
    "        print('交集包含两个元素')\n",
    "    if len(s1 & s2) >= 3:\n",
    "        print('交集包含多个元素')\n",
    "else:\n",
    "    print('两个集合交集为空')"
   ]
  },
  {
   "cell_type": "code",
   "execution_count": 13,
   "metadata": {},
   "outputs": [
    {
     "name": "stdout",
     "output_type": "stream",
     "text": [
      "交集包含两个元素\n"
     ]
    }
   ],
   "source": [
    "s1 = {1, 2, 3}\n",
    "s2 = {2, 3, 4}\n",
    "if s1 & s2 != set(): \n",
    "    if len(s1 & s2) == 1:\n",
    "        print('交集包含一个元素')\n",
    "    if len(s1 & s2) == 2:\n",
    "        print('交集包含两个元素')\n",
    "    if len(s1 & s2) >= 3:\n",
    "        print('交集包含多个元素')\n",
    "else:\n",
    "    print('两个集合交集为空')"
   ]
  },
  {
   "cell_type": "code",
   "execution_count": 15,
   "metadata": {},
   "outputs": [
    {
     "name": "stdout",
     "output_type": "stream",
     "text": [
      "交集包含多个元素\n"
     ]
    }
   ],
   "source": [
    "s1 = {1, 2, 3}\n",
    "s2 = {1, 2, 3}\n",
    "if s1 & s2 != set(): \n",
    "    if len(s1 & s2) == 1:\n",
    "        print('交集包含一个元素')\n",
    "    if len(s1 & s2) == 2:\n",
    "        print('交集包含两个元素')\n",
    "    if len(s1 & s2) >= 3:\n",
    "        print('交集包含多个元素')\n",
    "else:\n",
    "    print('两个集合交集为空')"
   ]
  },
  {
   "cell_type": "markdown",
   "metadata": {},
   "source": [
    "但嵌套结构往往不利于代码本身的阅读，过多使用嵌套结构会很大程度上降低代码可读性，因此面对刚才的逻辑，“满足条件1执行代码1，满足条件2执行代码2，当这些条件都不满足时，执行代码3”，我们更推荐使用if-elif-else结构来进行表达。该语法基本结构为：   \n",
    "```python\n",
    "if <条件1>:\n",
    "    <语句1>\n",
    "elif <条件2>:\n",
    "    <语句2>\n",
    "elif <条件3>:\n",
    "    <语句3>\n",
    "...\n",
    "else:\n",
    "    <语句3>\n",
    "```   "
   ]
  },
  {
   "cell_type": "code",
   "execution_count": 16,
   "metadata": {},
   "outputs": [
    {
     "name": "stdout",
     "output_type": "stream",
     "text": [
      "交集包含多个元素\n"
     ]
    }
   ],
   "source": [
    "s1 = {1, 2, 3}\n",
    "s2 = {1, 2, 3}\n",
    "if len(s1 & s2) == 1:\n",
    "    print('交集包含一个元素')\n",
    "elif len(s1 & s2) == 2:\n",
    "    print('交集包含两个元素')\n",
    "elif len(s1 & s2) >= 3:\n",
    "    print('交集包含多个元素')\n",
    "else:\n",
    "    print('两个集合交集为空')"
   ]
  },
  {
   "cell_type": "markdown",
   "metadata": {},
   "source": [
    "**Points:**\n",
    "- if-elif-else结构可以轻易的拓展为3分支、4分支乃至n分支的逻辑判别结构；\n",
    "- if-elif-else结构中else充当的角色实际上就是所有条件的补给，当if和elif条件都不满足时，统一执行else内部的语句；\n",
    "- if-elif结构中也可以没有else语句，此时若if和elif条件都不满足，则不执行任何代码；\n",
    "- if-elif-else结构中若条件重复，则会执行第一个满足的条件对应的语句。"
   ]
  },
  {
   "cell_type": "code",
   "execution_count": 17,
   "metadata": {},
   "outputs": [],
   "source": [
    "s1 = {1, 2, 3}\n",
    "s2 = {1, 2, 3}\n",
    "if len(s1 & s2) == 1:\n",
    "    print('交集包含一个元素')\n",
    "elif len(s1 & s2) == 2:\n",
    "    print('交集包含两个元素')"
   ]
  },
  {
   "cell_type": "code",
   "execution_count": 18,
   "metadata": {},
   "outputs": [
    {
     "name": "stdout",
     "output_type": "stream",
     "text": [
      "交集包含多个元素\n"
     ]
    }
   ],
   "source": [
    "s1 = {1, 2, 3}\n",
    "s2 = {1, 2, 3}\n",
    "if len(s1 & s2) != 1:\n",
    "    print('交集包含多个元素')\n",
    "elif len(s1 & s2) == 2:\n",
    "    print('交集包含两个元素')\n",
    "elif len(s1 & s2) == 3:\n",
    "    print('交集包含三个元素')"
   ]
  }
 ],
 "metadata": {
  "kernelspec": {
   "display_name": "Python 3",
   "language": "python",
   "name": "python3"
  },
  "language_info": {
   "codemirror_mode": {
    "name": "ipython",
    "version": 3
   },
   "file_extension": ".py",
   "mimetype": "text/x-python",
   "name": "python",
   "nbconvert_exporter": "python",
   "pygments_lexer": "ipython3",
   "version": "3.6.4"
  }
 },
 "nbformat": 4,
 "nbformat_minor": 2
}
