{
 "cells": [
  {
   "cell_type": "markdown",
   "metadata": {},
   "source": [
    "# Lesson 22.函数（一）：函数的使用"
   ]
  },
  {
   "cell_type": "markdown",
   "metadata": {},
   "source": [
    "#### 引子"
   ]
  },
  {
   "cell_type": "markdown",
   "metadata": {},
   "source": [
    "&emsp;&emsp;之前我们谈到，判别表达式和循环表达式，都是除了代码顺序执行外的一些常用组织Python世界中各个元素的基本逻辑，这些逻辑最终都是为了完成某些功能的实现，例如，想要比较一系列数值（1，2，5，7）的大小，并挑选出其中最大的一个，则可以通过以下方式实现："
   ]
  },
  {
   "cell_type": "markdown",
   "metadata": {},
   "source": [
    "Step 1.将这些数放入列表容器中，或将这些数储存在一个列表中"
   ]
  },
  {
   "cell_type": "code",
   "execution_count": 38,
   "metadata": {},
   "outputs": [],
   "source": [
    "l = [1, 2, 5, 7]"
   ]
  },
  {
   "cell_type": "markdown",
   "metadata": {},
   "source": [
    "Step 2.通过判别循环，找出最大的元素"
   ]
  },
  {
   "cell_type": "code",
   "execution_count": 23,
   "metadata": {},
   "outputs": [],
   "source": [
    "ma = l[0]\n",
    "for i in range(1, len(l)):\n",
    "    if ma < l[i]:\n",
    "        ma = l[i]\n",
    "    else:\n",
    "        continue"
   ]
  },
  {
   "cell_type": "code",
   "execution_count": 24,
   "metadata": {},
   "outputs": [
    {
     "data": {
      "text/plain": [
       "7"
      ]
     },
     "execution_count": 24,
     "metadata": {},
     "output_type": "execute_result"
    }
   ],
   "source": [
    "ma"
   ]
  },
  {
   "cell_type": "markdown",
   "metadata": {},
   "source": [
    "通过一个赋值语句，以及一个循环语句，就能够顺利的找出一组数中的最大值。此时，若想复用该逻辑，即再针对另一列数找出最大值，如（22， 51， 19， 43），我们可以再写一遍上述代码："
   ]
  },
  {
   "cell_type": "code",
   "execution_count": 25,
   "metadata": {},
   "outputs": [],
   "source": [
    "l1 = [22, 51, 19, 43]\n",
    "ma1 = l1[0]\n",
    "for i in range(1, len(l1)):\n",
    "    if ma1 < l1[i]:\n",
    "        ma1 = l1[i]\n",
    "    else:\n",
    "        continue"
   ]
  },
  {
   "cell_type": "code",
   "execution_count": 26,
   "metadata": {},
   "outputs": [
    {
     "data": {
      "text/plain": [
       "51"
      ]
     },
     "execution_count": 26,
     "metadata": {},
     "output_type": "execute_result"
    }
   ],
   "source": [
    "ma1"
   ]
  },
  {
   "cell_type": "markdown",
   "metadata": {},
   "source": [
    "好像也不是很复杂，但若逻辑进一步复杂化，例如想进一步找出这组数中的最小值，应该怎么办呢？"
   ]
  },
  {
   "cell_type": "markdown",
   "metadata": {},
   "source": [
    "Step 3.通过循环判别，找出最小元素"
   ]
  },
  {
   "cell_type": "code",
   "execution_count": 27,
   "metadata": {},
   "outputs": [],
   "source": [
    "mi = l[0]\n",
    "for i in range(1, len(l)):\n",
    "    if mi > l[i]:\n",
    "        mi = l[i]\n",
    "    else:\n",
    "        continue"
   ]
  },
  {
   "cell_type": "code",
   "execution_count": 28,
   "metadata": {},
   "outputs": [
    {
     "data": {
      "text/plain": [
       "1"
      ]
     },
     "execution_count": 28,
     "metadata": {},
     "output_type": "execute_result"
    }
   ],
   "source": [
    "mi"
   ]
  },
  {
   "cell_type": "markdown",
   "metadata": {},
   "source": [
    "再进一步，假设我现在想让该列数中的每个元素都剪去该列数的最小值、再处以该列数的极差（最大值-最小值），该如何操作？"
   ]
  },
  {
   "cell_type": "markdown",
   "metadata": {},
   "source": [
    "Step 4.计算极差"
   ]
  },
  {
   "cell_type": "code",
   "execution_count": 29,
   "metadata": {},
   "outputs": [],
   "source": [
    "mr = ma - mi"
   ]
  },
  {
   "cell_type": "code",
   "execution_count": 31,
   "metadata": {},
   "outputs": [
    {
     "data": {
      "text/plain": [
       "6"
      ]
     },
     "execution_count": 31,
     "metadata": {},
     "output_type": "execute_result"
    }
   ],
   "source": [
    "mr"
   ]
  },
  {
   "cell_type": "markdown",
   "metadata": {},
   "source": [
    "Step 5.利用循环，按要求处理每个数据"
   ]
  },
  {
   "cell_type": "code",
   "execution_count": 32,
   "metadata": {},
   "outputs": [],
   "source": [
    "for i in range(len(l)):\n",
    "    l[i] = (l[i] - mi) / mr"
   ]
  },
  {
   "cell_type": "code",
   "execution_count": 33,
   "metadata": {},
   "outputs": [
    {
     "data": {
      "text/plain": [
       "[0.0, 0.16666666666666666, 0.6666666666666666, 1.0]"
      ]
     },
     "execution_count": 33,
     "metadata": {},
     "output_type": "execute_result"
    }
   ],
   "source": [
    "l"
   ]
  },
  {
   "cell_type": "markdown",
   "metadata": {},
   "source": [
    "按照此逻辑进行处理，本质上就是对这组数进行了0-1标准化处理，这是数据分析中最常见的一种对数据处理的归一化方法，也是比较简单的处理数据的方法之一。但尽管如此，上述逻辑如果要复用，可能仍然会比较复杂，有没有什么简单的方法可以使得复用逻辑变得简单一些呢？有！就是利用函数。"
   ]
  },
  {
   "cell_type": "markdown",
   "metadata": {},
   "source": [
    "#### 1.函数功能   \n",
    "&emsp;&emsp;从使用角度来说，函数的本质就是对现有的逻辑进行封装，以方便以后再次调用、将相同的逻辑用于处理其他对象。例如，我们可以将上述归一化的逻辑封装为如下函数："
   ]
  },
  {
   "cell_type": "markdown",
   "metadata": {},
   "source": [
    "首先我们再来看下之前的逻辑能否进一步合并简化"
   ]
  },
  {
   "cell_type": "code",
   "execution_count": 42,
   "metadata": {},
   "outputs": [],
   "source": [
    "l = [1, 2, 5, 7]"
   ]
  },
  {
   "cell_type": "code",
   "execution_count": 43,
   "metadata": {},
   "outputs": [],
   "source": [
    "ma = l[0]\n",
    "mi = l[0]\n",
    "for i in range(1, len(l)):\n",
    "    if ma < l[i]:\n",
    "        ma = l[i]\n",
    "    if mi > l[i]:\n",
    "        mi = l[i]\n",
    "mr = ma - mi"
   ]
  },
  {
   "cell_type": "code",
   "execution_count": 44,
   "metadata": {},
   "outputs": [
    {
     "data": {
      "text/plain": [
       "6"
      ]
     },
     "execution_count": 44,
     "metadata": {},
     "output_type": "execute_result"
    }
   ],
   "source": [
    "mr"
   ]
  },
  {
   "cell_type": "code",
   "execution_count": 40,
   "metadata": {},
   "outputs": [
    {
     "data": {
      "text/plain": [
       "[1, 2, 5, 7]"
      ]
     },
     "execution_count": 40,
     "metadata": {},
     "output_type": "execute_result"
    }
   ],
   "source": [
    "l"
   ]
  },
  {
   "cell_type": "markdown",
   "metadata": {},
   "source": [
    "再封装为一整个函数："
   ]
  },
  {
   "cell_type": "code",
   "execution_count": 34,
   "metadata": {},
   "outputs": [],
   "source": [
    "def minmaxnorm(l):\n",
    "    ma = l[0]\n",
    "    mi = l[0]\n",
    "    for i in range(1, len(l)):\n",
    "        if ma < l[i]:\n",
    "            ma = l[i]\n",
    "        if mi > l[i]:\n",
    "            mi = l[i]\n",
    "    mr = ma - mi\n",
    "    for i in range(len(l)):\n",
    "        l[i] = (l[i] - mi) / mr\n",
    "    return l"
   ]
  },
  {
   "cell_type": "markdown",
   "metadata": {},
   "source": [
    "尝试着调用函数："
   ]
  },
  {
   "cell_type": "code",
   "execution_count": 35,
   "metadata": {},
   "outputs": [
    {
     "data": {
      "text/plain": [
       "[0.0, 0.16666666666666666, 0.6666666666666666, 1.0]"
      ]
     },
     "execution_count": 35,
     "metadata": {},
     "output_type": "execute_result"
    }
   ],
   "source": [
    "minmaxnorm(l)"
   ]
  },
  {
   "cell_type": "markdown",
   "metadata": {},
   "source": [
    "尝试针对其他对象复用该逻辑"
   ]
  },
  {
   "cell_type": "code",
   "execution_count": 47,
   "metadata": {},
   "outputs": [
    {
     "data": {
      "text/plain": [
       "[22, 51, 19, 43]"
      ]
     },
     "execution_count": 47,
     "metadata": {},
     "output_type": "execute_result"
    }
   ],
   "source": [
    "l1 = [22, 51, 19, 43]\n",
    "l1"
   ]
  },
  {
   "cell_type": "code",
   "execution_count": 48,
   "metadata": {},
   "outputs": [
    {
     "data": {
      "text/plain": [
       "[0.09375, 1.0, 0.0, 0.75]"
      ]
     },
     "execution_count": 48,
     "metadata": {},
     "output_type": "execute_result"
    }
   ],
   "source": [
    "minmaxnorm(l1)"
   ]
  },
  {
   "cell_type": "markdown",
   "metadata": {},
   "source": [
    "#### 2.函数结构详解"
   ]
  },
  {
   "cell_type": "markdown",
   "metadata": {},
   "source": [
    "&emsp;&emsp;函数的定义其实并不复杂，总的来说分为两部分，其一是通过def关键词定义函数名称及参数，第二部分则是具体代码部分。例如，在上述函数中，我们通过def minmaxnorm(l):语句实际上定义了该函数的名称：minmaxnorm，以及该函数在实际执行过程中涉及到的对象，即函数参数。其中，函数名称取名要求尽量简洁易懂，同时和内嵌函数名称不能重复，而函数参数，其功能类似于方程组中变量X、Y的作用，表示函数体内将要用到的对象名，本质上起到占位的作用，而函数代码则用于表示函数参数所代表的对象实际操作逻辑，因此函数本质上其实是处理逻辑的封装。例如："
   ]
  },
  {
   "cell_type": "code",
   "execution_count": 1,
   "metadata": {},
   "outputs": [],
   "source": [
    "def sum_1(a, b):             # 函数名为sum_1，a、b为函数参数\n",
    "    c = a + b                # 该函数实现的操作逻辑是让a、b相加，并且将结果赋给变量c\n",
    "    return(c)                # 函数最终返回c"
   ]
  },
  {
   "cell_type": "code",
   "execution_count": 53,
   "metadata": {},
   "outputs": [
    {
     "data": {
      "text/plain": [
       "3"
      ]
     },
     "execution_count": 53,
     "metadata": {},
     "output_type": "execute_result"
    }
   ],
   "source": [
    "sum_1(1, 2)"
   ]
  },
  {
   "cell_type": "code",
   "execution_count": 54,
   "metadata": {},
   "outputs": [
    {
     "data": {
      "text/plain": [
       "[1, 2, 3, 4]"
      ]
     },
     "execution_count": 54,
     "metadata": {},
     "output_type": "execute_result"
    }
   ],
   "source": [
    "sum_1([1, 2], [3, 4])"
   ]
  },
  {
   "cell_type": "markdown",
   "metadata": {},
   "source": [
    "- 函数中的return关键字表示函数最终返回的对象，函数执行完之后，我们可以将函数返回对象赋给某变量，当然也可以直接在屏幕上打印然后释放该对象所占用内存。"
   ]
  },
  {
   "cell_type": "markdown",
   "metadata": {},
   "source": [
    "#### 3.函数的调用过程"
   ]
  },
  {
   "cell_type": "markdown",
   "metadata": {},
   "source": [
    "&emsp;&emsp;函数一旦定义完毕后，就可以调用使用。调用函数的过程本质上就是给函数参数（占位符）进行赋值，或者说尝试使用函数内部定义的逻辑去操作给定的对象。例如，之前的sum_1函数，该函数封装的逻辑是将两个对象进行运算符加号的计算，然后返回计算结果，则当执行："
   ]
  },
  {
   "cell_type": "code",
   "execution_count": 55,
   "metadata": {},
   "outputs": [
    {
     "data": {
      "text/plain": [
       "3"
      ]
     },
     "execution_count": 55,
     "metadata": {},
     "output_type": "execute_result"
    }
   ],
   "source": [
    "sum_1(1, 2)"
   ]
  },
  {
   "cell_type": "markdown",
   "metadata": {},
   "source": [
    "时，本质上是进行了"
   ]
  },
  {
   "cell_type": "code",
   "execution_count": 56,
   "metadata": {},
   "outputs": [
    {
     "data": {
      "text/plain": [
       "3"
      ]
     },
     "execution_count": 56,
     "metadata": {},
     "output_type": "execute_result"
    }
   ],
   "source": [
    "1 + 2"
   ]
  },
  {
   "cell_type": "markdown",
   "metadata": {},
   "source": [
    "的计算。同理，当执行:"
   ]
  },
  {
   "cell_type": "code",
   "execution_count": 57,
   "metadata": {},
   "outputs": [
    {
     "data": {
      "text/plain": [
       "[1, 2, 3, 4]"
      ]
     },
     "execution_count": 57,
     "metadata": {},
     "output_type": "execute_result"
    }
   ],
   "source": [
    "sum_1([1, 2], [3, 4])"
   ]
  },
  {
   "cell_type": "markdown",
   "metadata": {},
   "source": [
    "时，实际上是进行了"
   ]
  },
  {
   "cell_type": "code",
   "execution_count": 58,
   "metadata": {},
   "outputs": [
    {
     "data": {
      "text/plain": [
       "[1, 2, 3, 4]"
      ]
     },
     "execution_count": 58,
     "metadata": {},
     "output_type": "execute_result"
    }
   ],
   "source": [
    "[1, 2] + [3, 4]"
   ]
  },
  {
   "cell_type": "markdown",
   "metadata": {},
   "source": [
    "的计算。因此，定义函数的本质是封装计算逻辑，而调用函数的本质则是将这些计算逻辑作用在确定的对象上。"
   ]
  },
  {
   "cell_type": "markdown",
   "metadata": {},
   "source": [
    "#### 4.函数帮助文档"
   ]
  },
  {
   "cell_type": "markdown",
   "metadata": {},
   "source": [
    "&emsp;&emsp;作为操作逻辑的封装，为了保证使用的便捷性，常常在定义函数的时候会对函数功能进行说明，这就是所谓的函数帮助文档。自定义函数帮助文档格式如下："
   ]
  },
  {
   "cell_type": "code",
   "execution_count": 1,
   "metadata": {},
   "outputs": [],
   "source": [
    "def sum_1(a, b):\n",
    "    \"\"\"让输入的两个对象利用加号运算符进行相加\n",
    "    参数：\n",
    "    a：函数输入的第一个对象\n",
    "    b：函数输入的第二个对象\n",
    "    return，返回a+b的结果\n",
    "    \"\"\"\n",
    "    c = a + b               \n",
    "    return(c)                "
   ]
  },
  {
   "cell_type": "markdown",
   "metadata": {},
   "source": [
    "查看自定义函数帮助文档："
   ]
  },
  {
   "cell_type": "code",
   "execution_count": 2,
   "metadata": {},
   "outputs": [
    {
     "data": {
      "text/plain": [
       "\u001b[1;31mSignature:\u001b[0m \u001b[0msum_1\u001b[0m\u001b[1;33m(\u001b[0m\u001b[0ma\u001b[0m\u001b[1;33m,\u001b[0m \u001b[0mb\u001b[0m\u001b[1;33m)\u001b[0m\u001b[1;33m\u001b[0m\u001b[1;33m\u001b[0m\u001b[0m\n",
       "\u001b[1;31mDocstring:\u001b[0m\n",
       "让输入的两个对象利用加号运算符进行相加\n",
       "参数：\n",
       "a：函数输入的第一个对象\n",
       "b：函数输入的第二个对象\n",
       "return，返回a+b的结果\n",
       "\u001b[1;31mFile:\u001b[0m      f:\\code file\\python基础课件备选\\<ipython-input-1-dff3788d5f49>\n",
       "\u001b[1;31mType:\u001b[0m      function\n"
      ]
     },
     "metadata": {},
     "output_type": "display_data"
    }
   ],
   "source": [
    "sum_1?"
   ]
  },
  {
   "cell_type": "markdown",
   "metadata": {},
   "source": [
    "合理使用帮助文档，能大幅提高函数的易用性。此时，若使用者知道是利用加号进行操作，则可基于对加号运算符的理解来使用函数，例如："
   ]
  },
  {
   "cell_type": "code",
   "execution_count": 6,
   "metadata": {},
   "outputs": [
    {
     "data": {
      "text/plain": [
       "2"
      ]
     },
     "execution_count": 6,
     "metadata": {},
     "output_type": "execute_result"
    }
   ],
   "source": [
    "sum_1(True, True)"
   ]
  }
 ],
 "metadata": {
  "kernelspec": {
   "display_name": "Python 3",
   "language": "python",
   "name": "python3"
  },
  "language_info": {
   "codemirror_mode": {
    "name": "ipython",
    "version": 3
   },
   "file_extension": ".py",
   "mimetype": "text/x-python",
   "name": "python",
   "nbconvert_exporter": "python",
   "pygments_lexer": "ipython3",
   "version": "3.7.9"
  }
 },
 "nbformat": 4,
 "nbformat_minor": 4
}
